{
 "cells": [
  {
   "cell_type": "code",
   "execution_count": null,
   "id": "9e0c7c21-0f46-4322-979d-6764feab3995",
   "metadata": {
    "editable": true,
    "slideshow": {
     "slide_type": ""
    },
    "tags": []
   },
   "outputs": [
    {
     "name": "stdout",
     "output_type": "stream",
     "text": [
      "\n",
      "Menú:\n",
      "1-Agregar un elemento\n",
      "2-Buscar un elemento por nombre\n",
      "3-Cambiar un elemento por nombre\n",
      "4-Borrar un elemento por nombre\n",
      "5-Mostrar el diccionario\n",
      "6-Salir\n"
     ]
    },
    {
     "name": "stdin",
     "output_type": "stream",
     "text": [
      "\n",
      "Seleccione una opción:  1\n",
      "Ingrese el nombre del elemento:  matricula\n",
      "Ingrese la descripción del elemento:  1234567\n"
     ]
    },
    {
     "name": "stdout",
     "output_type": "stream",
     "text": [
      "Elemento agregado correctamente.\n",
      "\n",
      "Menú:\n",
      "1-Agregar un elemento\n",
      "2-Buscar un elemento por nombre\n",
      "3-Cambiar un elemento por nombre\n",
      "4-Borrar un elemento por nombre\n",
      "5-Mostrar el diccionario\n",
      "6-Salir\n"
     ]
    },
    {
     "name": "stdin",
     "output_type": "stream",
     "text": [
      "\n",
      "Seleccione una opción:  nombre\n"
     ]
    },
    {
     "name": "stdout",
     "output_type": "stream",
     "text": [
      "Opción no válida. Por favor, seleccione una opción válida.\n",
      "\n",
      "Menú:\n",
      "1-Agregar un elemento\n",
      "2-Buscar un elemento por nombre\n",
      "3-Cambiar un elemento por nombre\n",
      "4-Borrar un elemento por nombre\n",
      "5-Mostrar el diccionario\n",
      "6-Salir\n"
     ]
    },
    {
     "name": "stdin",
     "output_type": "stream",
     "text": [
      "\n",
      "Seleccione una opción:  1\n",
      "Ingrese el nombre del elemento:  nombre\n",
      "Ingrese la descripción del elemento:  jeny\n"
     ]
    },
    {
     "name": "stdout",
     "output_type": "stream",
     "text": [
      "Elemento agregado correctamente.\n",
      "\n",
      "Menú:\n",
      "1-Agregar un elemento\n",
      "2-Buscar un elemento por nombre\n",
      "3-Cambiar un elemento por nombre\n",
      "4-Borrar un elemento por nombre\n",
      "5-Mostrar el diccionario\n",
      "6-Salir\n"
     ]
    },
    {
     "name": "stdin",
     "output_type": "stream",
     "text": [
      "\n",
      "Seleccione una opción:  1\n"
     ]
    }
   ],
   "source": [
    "diccionario = {}\n",
    "\n",
    "while True:\n",
    "    print(\"\\nMenú:\")\n",
    "    print(\"1-Agregar un elemento\")\n",
    "    print(\"2-Buscar un elemento por nombre\")\n",
    "    print(\"3-Cambiar un elemento por nombre\")\n",
    "    print(\"4-Borrar un elemento por nombre\")\n",
    "    print(\"5-Mostrar el diccionario\")\n",
    "    print(\"6-Salir\")\n",
    "\n",
    "    opcion = input(\"\\nSeleccione una opción: \")\n",
    "\n",
    "    if opcion == '1':\n",
    "        nombre = input(\"Ingrese el nombre del elemento: \")\n",
    "        elemento = input(\"Ingrese la descripción del elemento: \")\n",
    "        diccionario[nombre] = elemento\n",
    "        print(\"Elemento agregado correctamente.\")\n",
    "    elif opcion == '2':\n",
    "        nombre = input(\"Ingrese el nombre del elemento a buscar: \")\n",
    "        if nombre in diccionario:\n",
    "            print(f\"Descripción de {nombre}: {diccionario[nombre]}\")\n",
    "        else:\n",
    "            print(\"El elemento no existe en el diccionario.\")\n",
    "    elif opcion == '3':\n",
    "        nombre = input(\"Ingrese el nombre del elemento a cambiar: \")\n",
    "        if nombre in diccionario:\n",
    "            nuevo_elemento = input(\"Ingrese la nueva descripción del elemento: \")\n",
    "            diccionario[nombre] = nuevo_elemento\n",
    "            print(\"Elemento cambiado correctamente.\")\n",
    "        else:\n",
    "            print(\"El elemento no existe en el diccionario.\")\n",
    "    elif opcion == '4':\n",
    "        nombre = input(\"Ingrese el nombre del elemento a borrar: \")\n",
    "        if nombre in diccionario:\n",
    "            del diccionario[nombre]\n",
    "            print(\"Elemento borrado correctamente.\")\n",
    "        else:\n",
    "            print(\"El elemento no existe en el diccionario.\")\n",
    "    elif opcion == '5':\n",
    "        if diccionario:\n",
    "            print(\"Contenido del diccionario:\")\n",
    "            for nombre, elemento in diccionario.items():\n",
    "                print(f\"{nombre}: {elemento}\")\n",
    "        else:\n",
    "            print(\"El diccionario está vacío.\")\n",
    "    elif opcion == '6':\n",
    "        print(\"¡Hasta luego!\")\n",
    "        break\n",
    "    else:\n",
    "        print(\"Opción no válida. Por favor, seleccione una opción válida.\")\n"
   ]
  },
  {
   "cell_type": "code",
   "execution_count": null,
   "id": "79083f3f-806e-4481-8b83-c0bb62910f51",
   "metadata": {},
   "outputs": [],
   "source": []
  }
 ],
 "metadata": {
  "kernelspec": {
   "display_name": "Python 3 (ipykernel)",
   "language": "python",
   "name": "python3"
  },
  "language_info": {
   "codemirror_mode": {
    "name": "ipython",
    "version": 3
   },
   "file_extension": ".py",
   "mimetype": "text/x-python",
   "name": "python",
   "nbconvert_exporter": "python",
   "pygments_lexer": "ipython3",
   "version": "3.12.0"
  }
 },
 "nbformat": 4,
 "nbformat_minor": 5
}
